{
 "cells": [
  {
   "cell_type": "markdown",
   "id": "d257f1b4",
   "metadata": {},
   "source": [
    "# Проигрышные числа в лотерее \"Русское лото\""
   ]
  },
  {
   "cell_type": "markdown",
   "id": "308d178f",
   "metadata": {},
   "source": [
    "Часто ли вы выигрывали в лотерею? Наверняка крайне редко.\n",
    "\n",
    "Предагаю вместе со мной разобраться в том, какие же числа не стоит выбирать при выборе лотерейных билетов.\n",
    "\n",
    "Мною была составлена преславутая табличка из данных с сайта Русского лото о всех тиражах 2022-го года и неразыгранных в эти тиражи шаров. В этом проекте разберёмся, какие числа не стоит выбирать в билетах, чтобы выиграть не ноль рублей."
   ]
  },
  {
   "cell_type": "markdown",
   "id": "1a537e39",
   "metadata": {},
   "source": [
    "## Импортируем библиотеки"
   ]
  },
  {
   "cell_type": "code",
   "execution_count": 1,
   "id": "d6f28391",
   "metadata": {},
   "outputs": [
    {
     "name": "stderr",
     "output_type": "stream",
     "text": [
      "/home/dgv/.local/lib/python3.7/site-packages/pandas/compat/__init__.py:120: UserWarning: Could not import the lzma module. Your installed Python is incomplete. Attempting to use lzma compression will result in a RuntimeError.\n",
      "  warnings.warn(msg)\n"
     ]
    }
   ],
   "source": [
    "import pandas as pd #основная библиотека для работы с данными из таблицы\n",
    "import matplotlib.pyplot as plt #библиотека для построения пары графиков\n",
    "\n",
    "from collections import Counter as cnt #это будет нужно"
   ]
  },
  {
   "cell_type": "markdown",
   "id": "ff710888",
   "metadata": {},
   "source": [
    "## Прочитаем и изучим таблицу"
   ]
  },
  {
   "cell_type": "code",
   "execution_count": 2,
   "id": "731383ff",
   "metadata": {},
   "outputs": [],
   "source": [
    "data = pd.read_csv(\"/home/dgv/Документы/rus_loto_2022.csv\", parse_dates=['Date'])"
   ]
  },
  {
   "cell_type": "markdown",
   "id": "e2f55a16",
   "metadata": {},
   "source": [
    "Сразу дату обозначим датой для упрощения кода"
   ]
  },
  {
   "cell_type": "code",
   "execution_count": 3,
   "id": "9751e088",
   "metadata": {},
   "outputs": [
    {
     "name": "stdout",
     "output_type": "stream",
     "text": [
      "<class 'pandas.core.frame.DataFrame'>\n",
      "RangeIndex: 51 entries, 0 to 50\n",
      "Data columns (total 5 columns):\n",
      " #   Column   Non-Null Count  Dtype         \n",
      "---  ------   --------------  -----         \n",
      " 0   Date     51 non-null     datetime64[ns]\n",
      " 1   Balls_1  51 non-null     int64         \n",
      " 2   Balls_2  50 non-null     float64       \n",
      " 3   Balls_3  51 non-null     int64         \n",
      " 4   Balls_4  51 non-null     int64         \n",
      "dtypes: datetime64[ns](1), float64(1), int64(3)\n",
      "memory usage: 2.1 KB\n"
     ]
    }
   ],
   "source": [
    "data.info()"
   ]
  },
  {
   "cell_type": "markdown",
   "id": "98b8aae0",
   "metadata": {},
   "source": [
    "Таблица состоит из дат тиражей и невыпавших чисел. Столбцы определяюттакже невыпавшие шары.\n",
    "\n",
    "В столбце Balls_2 тип данных отличается от основного, нужно разобраться, там могут быть пропуски."
   ]
  },
  {
   "cell_type": "markdown",
   "id": "44c41538",
   "metadata": {},
   "source": [
    "## Обработка данных"
   ]
  },
  {
   "cell_type": "code",
   "execution_count": 4,
   "id": "34ed08af",
   "metadata": {},
   "outputs": [
    {
     "data": {
      "text/plain": [
       "1"
      ]
     },
     "execution_count": 4,
     "metadata": {},
     "output_type": "execute_result"
    }
   ],
   "source": [
    "data['Balls_2'].isna().sum()"
   ]
  },
  {
   "cell_type": "markdown",
   "id": "4cf1cd36",
   "metadata": {},
   "source": [
    "Нужно убрать пропуски, заменив их нулями, т.к. пустота - значит шар разыгран. Нас интересуют неразыгранные шары."
   ]
  },
  {
   "cell_type": "code",
   "execution_count": 5,
   "id": "68a5b010",
   "metadata": {},
   "outputs": [],
   "source": [
    "data['Balls_2'] = data['Balls_2'].fillna(0)"
   ]
  },
  {
   "cell_type": "code",
   "execution_count": 6,
   "id": "d198a45b",
   "metadata": {},
   "outputs": [],
   "source": [
    "data['Balls_2'] = data['Balls_2'].astype(int)"
   ]
  },
  {
   "cell_type": "markdown",
   "id": "44cbef19",
   "metadata": {},
   "source": [
    "Приведем тип числовых данных к самому лёгкому типу:"
   ]
  },
  {
   "cell_type": "code",
   "execution_count": 7,
   "id": "55d87358",
   "metadata": {},
   "outputs": [],
   "source": [
    "data[data.columns[1:4]] = data[data.columns[1:4]].astype('uint8')"
   ]
  },
  {
   "cell_type": "code",
   "execution_count": 8,
   "id": "275d2bfe",
   "metadata": {},
   "outputs": [
    {
     "name": "stdout",
     "output_type": "stream",
     "text": [
      "<class 'pandas.core.frame.DataFrame'>\n",
      "RangeIndex: 51 entries, 0 to 50\n",
      "Data columns (total 5 columns):\n",
      " #   Column   Non-Null Count  Dtype         \n",
      "---  ------   --------------  -----         \n",
      " 0   Date     51 non-null     datetime64[ns]\n",
      " 1   Balls_1  51 non-null     uint8         \n",
      " 2   Balls_2  51 non-null     uint8         \n",
      " 3   Balls_3  51 non-null     uint8         \n",
      " 4   Balls_4  51 non-null     int64         \n",
      "dtypes: datetime64[ns](1), int64(1), uint8(3)\n",
      "memory usage: 1.1 KB\n"
     ]
    }
   ],
   "source": [
    "data.info()"
   ]
  },
  {
   "cell_type": "code",
   "execution_count": 9,
   "id": "c22d3b6c",
   "metadata": {},
   "outputs": [
    {
     "data": {
      "text/html": [
       "<div>\n",
       "<style scoped>\n",
       "    .dataframe tbody tr th:only-of-type {\n",
       "        vertical-align: middle;\n",
       "    }\n",
       "\n",
       "    .dataframe tbody tr th {\n",
       "        vertical-align: top;\n",
       "    }\n",
       "\n",
       "    .dataframe thead th {\n",
       "        text-align: right;\n",
       "    }\n",
       "</style>\n",
       "<table border=\"1\" class=\"dataframe\">\n",
       "  <thead>\n",
       "    <tr style=\"text-align: right;\">\n",
       "      <th></th>\n",
       "      <th>Date</th>\n",
       "      <th>Balls_1</th>\n",
       "      <th>Balls_2</th>\n",
       "      <th>Balls_3</th>\n",
       "      <th>Balls_4</th>\n",
       "    </tr>\n",
       "  </thead>\n",
       "  <tbody>\n",
       "    <tr>\n",
       "      <th>0</th>\n",
       "      <td>2022-01-01</td>\n",
       "      <td>0</td>\n",
       "      <td>17</td>\n",
       "      <td>66</td>\n",
       "      <td>76</td>\n",
       "    </tr>\n",
       "    <tr>\n",
       "      <th>1</th>\n",
       "      <td>2022-09-01</td>\n",
       "      <td>0</td>\n",
       "      <td>9</td>\n",
       "      <td>51</td>\n",
       "      <td>80</td>\n",
       "    </tr>\n",
       "    <tr>\n",
       "      <th>2</th>\n",
       "      <td>2022-01-16</td>\n",
       "      <td>16</td>\n",
       "      <td>26</td>\n",
       "      <td>45</td>\n",
       "      <td>48</td>\n",
       "    </tr>\n",
       "    <tr>\n",
       "      <th>3</th>\n",
       "      <td>2022-01-23</td>\n",
       "      <td>3</td>\n",
       "      <td>39</td>\n",
       "      <td>41</td>\n",
       "      <td>59</td>\n",
       "    </tr>\n",
       "    <tr>\n",
       "      <th>4</th>\n",
       "      <td>2022-01-30</td>\n",
       "      <td>0</td>\n",
       "      <td>51</td>\n",
       "      <td>63</td>\n",
       "      <td>70</td>\n",
       "    </tr>\n",
       "  </tbody>\n",
       "</table>\n",
       "</div>"
      ],
      "text/plain": [
       "        Date  Balls_1  Balls_2  Balls_3  Balls_4\n",
       "0 2022-01-01        0       17       66       76\n",
       "1 2022-09-01        0        9       51       80\n",
       "2 2022-01-16       16       26       45       48\n",
       "3 2022-01-23        3       39       41       59\n",
       "4 2022-01-30        0       51       63       70"
      ]
     },
     "execution_count": 9,
     "metadata": {},
     "output_type": "execute_result"
    }
   ],
   "source": [
    "data.head()"
   ]
  },
  {
   "cell_type": "markdown",
   "id": "b5e287d2",
   "metadata": {},
   "source": [
    "Теперь всё красиво. Посмотрим на графиках что к чему:"
   ]
  },
  {
   "cell_type": "markdown",
   "id": "dad09147",
   "metadata": {},
   "source": [
    "## Изучение данных"
   ]
  },
  {
   "cell_type": "code",
   "execution_count": 10,
   "id": "39027787",
   "metadata": {},
   "outputs": [
    {
     "name": "stderr",
     "output_type": "stream",
     "text": [
      "/home/dgv/.local/lib/python3.7/site-packages/pandas/plotting/_matplotlib/tools.py:331: MatplotlibDeprecationWarning: \n",
      "The is_first_col function was deprecated in Matplotlib 3.4 and will be removed two minor releases later. Use ax.get_subplotspec().is_first_col() instead.\n",
      "  if ax.is_first_col():\n"
     ]
    },
    {
     "data": {
      "text/plain": [
       "array([[<AxesSubplot:title={'center':'Balls_1'}>,\n",
       "        <AxesSubplot:title={'center':'Balls_2'}>],\n",
       "       [<AxesSubplot:title={'center':'Balls_3'}>,\n",
       "        <AxesSubplot:title={'center':'Balls_4'}>]], dtype=object)"
      ]
     },
     "execution_count": 10,
     "metadata": {},
     "output_type": "execute_result"
    },
    {
     "data": {
      "image/png": "[encoded data removed]",
      "text/plain": [
       "<Figure size 432x288 with 4 Axes>"
      ]
     },
     "metadata": {
      "needs_background": "light"
     },
     "output_type": "display_data"
    }
   ],
   "source": [
    "data.hist()"
   ]
  },
  {
   "cell_type": "code",
   "execution_count": 11,
   "id": "85a2a484",
   "metadata": {},
   "outputs": [
    {
     "data": {
      "text/plain": [
       "<AxesSubplot:>"
      ]
     },
     "execution_count": 11,
     "metadata": {},
     "output_type": "execute_result"
    },
    {
     "data": {
      "image/png": "[encoded data removed]",
      "text/plain": [
       "<Figure size 432x288 with 1 Axes>"
      ]
     },
     "metadata": {
      "needs_background": "light"
     },
     "output_type": "display_data"
    }
   ],
   "source": [
    "data.boxplot()"
   ]
  },
  {
   "cell_type": "markdown",
   "id": "c41a45d4",
   "metadata": {},
   "source": [
    "В общем шар_1 и шар_2 имеют околонулевые значения, т.к. бывали тиражи, где не разыгрывались 2-3 шара вместо 4-х, потому очень высокое нулевое значение."
   ]
  },
  {
   "cell_type": "markdown",
   "id": "ac106869",
   "metadata": {},
   "source": [
    "Вынесем даты в индекс, чтобы посмотреть на распределение чисел по датам"
   ]
  },
  {
   "cell_type": "code",
   "execution_count": 12,
   "id": "63ef4e0e",
   "metadata": {},
   "outputs": [],
   "source": [
    "data_pivot = data.pivot_table(index = 'Date', values = data[data.columns[1:5]])"
   ]
  },
  {
   "cell_type": "code",
   "execution_count": 13,
   "id": "d7049ff8",
   "metadata": {},
   "outputs": [
    {
     "data": {
      "text/html": [
       "<div>\n",
       "<style scoped>\n",
       "    .dataframe tbody tr th:only-of-type {\n",
       "        vertical-align: middle;\n",
       "    }\n",
       "\n",
       "    .dataframe tbody tr th {\n",
       "        vertical-align: top;\n",
       "    }\n",
       "\n",
       "    .dataframe thead th {\n",
       "        text-align: right;\n",
       "    }\n",
       "</style>\n",
       "<table border=\"1\" class=\"dataframe\">\n",
       "  <thead>\n",
       "    <tr style=\"text-align: right;\">\n",
       "      <th></th>\n",
       "      <th>Balls_1</th>\n",
       "      <th>Balls_2</th>\n",
       "      <th>Balls_3</th>\n",
       "      <th>Balls_4</th>\n",
       "    </tr>\n",
       "    <tr>\n",
       "      <th>Date</th>\n",
       "      <th></th>\n",
       "      <th></th>\n",
       "      <th></th>\n",
       "      <th></th>\n",
       "    </tr>\n",
       "  </thead>\n",
       "  <tbody>\n",
       "    <tr>\n",
       "      <th>2022-05-06</th>\n",
       "      <td>10</td>\n",
       "      <td>19</td>\n",
       "      <td>29</td>\n",
       "      <td>88</td>\n",
       "    </tr>\n",
       "    <tr>\n",
       "      <th>2022-03-04</th>\n",
       "      <td>0</td>\n",
       "      <td>0</td>\n",
       "      <td>28</td>\n",
       "      <td>7</td>\n",
       "    </tr>\n",
       "    <tr>\n",
       "      <th>2022-09-01</th>\n",
       "      <td>0</td>\n",
       "      <td>9</td>\n",
       "      <td>51</td>\n",
       "      <td>80</td>\n",
       "    </tr>\n",
       "  </tbody>\n",
       "</table>\n",
       "</div>"
      ],
      "text/plain": [
       "            Balls_1  Balls_2  Balls_3  Balls_4\n",
       "Date                                          \n",
       "2022-05-06       10       19       29       88\n",
       "2022-03-04        0        0       28        7\n",
       "2022-09-01        0        9       51       80"
      ]
     },
     "execution_count": 13,
     "metadata": {},
     "output_type": "execute_result"
    }
   ],
   "source": [
    "data_pivot.sample(3)"
   ]
  },
  {
   "cell_type": "code",
   "execution_count": 14,
   "id": "34031c9a",
   "metadata": {},
   "outputs": [
    {
     "data": {
      "text/plain": [
       "<AxesSubplot:xlabel='Date'>"
      ]
     },
     "execution_count": 14,
     "metadata": {},
     "output_type": "execute_result"
    },
    {
     "data": {
      "image/png": "[encoded data removed]",
      "text/plain": [
       "<Figure size 720x432 with 1 Axes>"
      ]
     },
     "metadata": {
      "needs_background": "light"
     },
     "output_type": "display_data"
    }
   ],
   "source": [
    "data_pivot.plot(figsize=(10,6))"
   ]
  },
  {
   "cell_type": "markdown",
   "id": "09f5fd18",
   "metadata": {},
   "source": [
    "Пока непонятно что к чему. Можно разобрать таблицу по столбцам и посчитать количество каждого неразыгранного шара. Тут-то и пригодится Counter:"
   ]
  },
  {
   "cell_type": "code",
   "execution_count": 15,
   "id": "0790e24d",
   "metadata": {},
   "outputs": [
    {
     "data": {
      "text/plain": [
       "Counter({0: 26,\n",
       "         38: 1,\n",
       "         16: 2,\n",
       "         3: 3,\n",
       "         15: 1,\n",
       "         11: 1,\n",
       "         1: 2,\n",
       "         10: 1,\n",
       "         4: 2,\n",
       "         43: 1,\n",
       "         62: 1,\n",
       "         20: 2,\n",
       "         6: 2,\n",
       "         25: 1,\n",
       "         30: 1,\n",
       "         33: 1,\n",
       "         59: 1,\n",
       "         14: 1,\n",
       "         37: 1})"
      ]
     },
     "execution_count": 15,
     "metadata": {},
     "output_type": "execute_result"
    }
   ],
   "source": [
    "cnt(data_pivot.Balls_1)"
   ]
  },
  {
   "cell_type": "markdown",
   "id": "33483a3a",
   "metadata": {},
   "source": [
    "Выглядит хорошо, но было бы неплохо забить эти значения в отдельную таблицу. Создадим столбцы:"
   ]
  },
  {
   "cell_type": "code",
   "execution_count": 16,
   "id": "8968f788",
   "metadata": {},
   "outputs": [],
   "source": [
    "bad_balls_1 = pd.Series(cnt(data_pivot.Balls_1))"
   ]
  },
  {
   "cell_type": "code",
   "execution_count": 17,
   "id": "8027825f",
   "metadata": {},
   "outputs": [],
   "source": [
    "bad_balls_2 = pd.Series(cnt(data_pivot.Balls_2))"
   ]
  },
  {
   "cell_type": "code",
   "execution_count": 18,
   "id": "04bb4b46",
   "metadata": {},
   "outputs": [],
   "source": [
    "bad_balls_3 = pd.Series(cnt(data_pivot.Balls_3))"
   ]
  },
  {
   "cell_type": "code",
   "execution_count": 19,
   "id": "40f088e2",
   "metadata": {},
   "outputs": [],
   "source": [
    "bad_balls_4 = pd.Series(cnt(data_pivot.Balls_4))"
   ]
  },
  {
   "cell_type": "markdown",
   "id": "7b611e1e",
   "metadata": {},
   "source": [
    "Альтернативный вариант:\n",
    "`bad_balls_1 = data['Balls_1'].value_counts()`"
   ]
  },
  {
   "cell_type": "markdown",
   "id": "d3e3835d",
   "metadata": {},
   "source": [
    "Загоним столбцы в таблицу, что бы можно было объединить их по индексам (индексы сейчас - это невыпавшие шары).\n",
    "\n",
    "После долгих мучений мне пришло в голову создать вот такого франкенштейна, засунув сериесы в датафреймы и объединив все датафреймы сразу через join() одной строчкой кода. Заодно в каждом присоединяемом датафрейме обзовём получающийся столбец, а в каждом join() укажем сортировку для того. что б числа шли от малого к большому числу. Метод `how='outer'` поможет не потерять индексы (ведь это искомые нами шары)"
   ]
  },
  {
   "cell_type": "code",
   "execution_count": 20,
   "id": "9bb782bd",
   "metadata": {},
   "outputs": [],
   "source": [
    "balls = pd.DataFrame(bad_balls_1, columns=['1']).join(pd.DataFrame(bad_balls_2, columns=['2']), \n",
    "                                                  how='outer', \n",
    "                                                  sort=True).join(pd.DataFrame(bad_balls_3, columns=['3']), \n",
    "                                                                               how='outer',\n",
    "                                                                               sort=True).join(pd.DataFrame(bad_balls_4, columns=['4']), \n",
    "                                                                                               how='outer', \n",
    "                                                                                               sort=True)"
   ]
  },
  {
   "cell_type": "code",
   "execution_count": 21,
   "id": "00a8cfef",
   "metadata": {},
   "outputs": [
    {
     "data": {
      "text/html": [
       "<div>\n",
       "<style scoped>\n",
       "    .dataframe tbody tr th:only-of-type {\n",
       "        vertical-align: middle;\n",
       "    }\n",
       "\n",
       "    .dataframe tbody tr th {\n",
       "        vertical-align: top;\n",
       "    }\n",
       "\n",
       "    .dataframe thead th {\n",
       "        text-align: right;\n",
       "    }\n",
       "</style>\n",
       "<table border=\"1\" class=\"dataframe\">\n",
       "  <thead>\n",
       "    <tr style=\"text-align: right;\">\n",
       "      <th></th>\n",
       "      <th>1</th>\n",
       "      <th>2</th>\n",
       "      <th>3</th>\n",
       "      <th>4</th>\n",
       "    </tr>\n",
       "  </thead>\n",
       "  <tbody>\n",
       "    <tr>\n",
       "      <th>0</th>\n",
       "      <td>26.0</td>\n",
       "      <td>12.0</td>\n",
       "      <td>2.0</td>\n",
       "      <td>1.0</td>\n",
       "    </tr>\n",
       "    <tr>\n",
       "      <th>1</th>\n",
       "      <td>2.0</td>\n",
       "      <td>NaN</td>\n",
       "      <td>NaN</td>\n",
       "      <td>NaN</td>\n",
       "    </tr>\n",
       "    <tr>\n",
       "      <th>2</th>\n",
       "      <td>NaN</td>\n",
       "      <td>1.0</td>\n",
       "      <td>NaN</td>\n",
       "      <td>NaN</td>\n",
       "    </tr>\n",
       "    <tr>\n",
       "      <th>3</th>\n",
       "      <td>3.0</td>\n",
       "      <td>1.0</td>\n",
       "      <td>NaN</td>\n",
       "      <td>NaN</td>\n",
       "    </tr>\n",
       "    <tr>\n",
       "      <th>4</th>\n",
       "      <td>2.0</td>\n",
       "      <td>NaN</td>\n",
       "      <td>NaN</td>\n",
       "      <td>NaN</td>\n",
       "    </tr>\n",
       "  </tbody>\n",
       "</table>\n",
       "</div>"
      ],
      "text/plain": [
       "      1     2    3    4\n",
       "0  26.0  12.0  2.0  1.0\n",
       "1   2.0   NaN  NaN  NaN\n",
       "2   NaN   1.0  NaN  NaN\n",
       "3   3.0   1.0  NaN  NaN\n",
       "4   2.0   NaN  NaN  NaN"
      ]
     },
     "execution_count": 21,
     "metadata": {},
     "output_type": "execute_result"
    }
   ],
   "source": [
    "balls.head()"
   ]
  },
  {
   "cell_type": "markdown",
   "id": "ccd593ed",
   "metadata": {},
   "source": [
    "Конечно же получились пропуски, т.к. чисел много и они разные. Заменим пропуски нулями:"
   ]
  },
  {
   "cell_type": "code",
   "execution_count": 22,
   "id": "3c8a29a0",
   "metadata": {},
   "outputs": [],
   "source": [
    "balls = balls.fillna(0)"
   ]
  },
  {
   "cell_type": "code",
   "execution_count": 23,
   "id": "2a924337",
   "metadata": {},
   "outputs": [
    {
     "data": {
      "text/html": [
       "<div>\n",
       "<style scoped>\n",
       "    .dataframe tbody tr th:only-of-type {\n",
       "        vertical-align: middle;\n",
       "    }\n",
       "\n",
       "    .dataframe tbody tr th {\n",
       "        vertical-align: top;\n",
       "    }\n",
       "\n",
       "    .dataframe thead th {\n",
       "        text-align: right;\n",
       "    }\n",
       "</style>\n",
       "<table border=\"1\" class=\"dataframe\">\n",
       "  <thead>\n",
       "    <tr style=\"text-align: right;\">\n",
       "      <th></th>\n",
       "      <th>1</th>\n",
       "      <th>2</th>\n",
       "      <th>3</th>\n",
       "      <th>4</th>\n",
       "    </tr>\n",
       "  </thead>\n",
       "  <tbody>\n",
       "    <tr>\n",
       "      <th>0</th>\n",
       "      <td>26.0</td>\n",
       "      <td>12.0</td>\n",
       "      <td>2.0</td>\n",
       "      <td>1.0</td>\n",
       "    </tr>\n",
       "    <tr>\n",
       "      <th>1</th>\n",
       "      <td>2.0</td>\n",
       "      <td>0.0</td>\n",
       "      <td>0.0</td>\n",
       "      <td>0.0</td>\n",
       "    </tr>\n",
       "    <tr>\n",
       "      <th>2</th>\n",
       "      <td>0.0</td>\n",
       "      <td>1.0</td>\n",
       "      <td>0.0</td>\n",
       "      <td>0.0</td>\n",
       "    </tr>\n",
       "    <tr>\n",
       "      <th>3</th>\n",
       "      <td>3.0</td>\n",
       "      <td>1.0</td>\n",
       "      <td>0.0</td>\n",
       "      <td>0.0</td>\n",
       "    </tr>\n",
       "    <tr>\n",
       "      <th>4</th>\n",
       "      <td>2.0</td>\n",
       "      <td>0.0</td>\n",
       "      <td>0.0</td>\n",
       "      <td>0.0</td>\n",
       "    </tr>\n",
       "  </tbody>\n",
       "</table>\n",
       "</div>"
      ],
      "text/plain": [
       "      1     2    3    4\n",
       "0  26.0  12.0  2.0  1.0\n",
       "1   2.0   0.0  0.0  0.0\n",
       "2   0.0   1.0  0.0  0.0\n",
       "3   3.0   1.0  0.0  0.0\n",
       "4   2.0   0.0  0.0  0.0"
      ]
     },
     "execution_count": 23,
     "metadata": {},
     "output_type": "execute_result"
    }
   ],
   "source": [
    "balls.head()"
   ]
  },
  {
   "cell_type": "markdown",
   "id": "723b49f3",
   "metadata": {},
   "source": [
    "Так как нули нас не интересуют, ведь они олицетворяют выигрышные шары, то уберем этот индекс из таблицы:"
   ]
  },
  {
   "cell_type": "code",
   "execution_count": 24,
   "id": "42e755c9",
   "metadata": {},
   "outputs": [],
   "source": [
    "balls.drop(labels = [0], axis=0, inplace=True)"
   ]
  },
  {
   "cell_type": "code",
   "execution_count": 25,
   "id": "039703bc",
   "metadata": {},
   "outputs": [
    {
     "data": {
      "text/html": [
       "<div>\n",
       "<style scoped>\n",
       "    .dataframe tbody tr th:only-of-type {\n",
       "        vertical-align: middle;\n",
       "    }\n",
       "\n",
       "    .dataframe tbody tr th {\n",
       "        vertical-align: top;\n",
       "    }\n",
       "\n",
       "    .dataframe thead th {\n",
       "        text-align: right;\n",
       "    }\n",
       "</style>\n",
       "<table border=\"1\" class=\"dataframe\">\n",
       "  <thead>\n",
       "    <tr style=\"text-align: right;\">\n",
       "      <th></th>\n",
       "      <th>1</th>\n",
       "      <th>2</th>\n",
       "      <th>3</th>\n",
       "      <th>4</th>\n",
       "    </tr>\n",
       "  </thead>\n",
       "  <tbody>\n",
       "    <tr>\n",
       "      <th>1</th>\n",
       "      <td>2.0</td>\n",
       "      <td>0.0</td>\n",
       "      <td>0.0</td>\n",
       "      <td>0.0</td>\n",
       "    </tr>\n",
       "    <tr>\n",
       "      <th>2</th>\n",
       "      <td>0.0</td>\n",
       "      <td>1.0</td>\n",
       "      <td>0.0</td>\n",
       "      <td>0.0</td>\n",
       "    </tr>\n",
       "    <tr>\n",
       "      <th>3</th>\n",
       "      <td>3.0</td>\n",
       "      <td>1.0</td>\n",
       "      <td>0.0</td>\n",
       "      <td>0.0</td>\n",
       "    </tr>\n",
       "    <tr>\n",
       "      <th>4</th>\n",
       "      <td>2.0</td>\n",
       "      <td>0.0</td>\n",
       "      <td>0.0</td>\n",
       "      <td>0.0</td>\n",
       "    </tr>\n",
       "    <tr>\n",
       "      <th>6</th>\n",
       "      <td>2.0</td>\n",
       "      <td>0.0</td>\n",
       "      <td>0.0</td>\n",
       "      <td>0.0</td>\n",
       "    </tr>\n",
       "  </tbody>\n",
       "</table>\n",
       "</div>"
      ],
      "text/plain": [
       "     1    2    3    4\n",
       "1  2.0  0.0  0.0  0.0\n",
       "2  0.0  1.0  0.0  0.0\n",
       "3  3.0  1.0  0.0  0.0\n",
       "4  2.0  0.0  0.0  0.0\n",
       "6  2.0  0.0  0.0  0.0"
      ]
     },
     "execution_count": 25,
     "metadata": {},
     "output_type": "execute_result"
    }
   ],
   "source": [
    "balls.head()"
   ]
  },
  {
   "cell_type": "markdown",
   "id": "ee11a052",
   "metadata": {},
   "source": [
    "Нужны цифры без запятых, т.к запятые режут глаза:"
   ]
  },
  {
   "cell_type": "code",
   "execution_count": 26,
   "id": "00882831",
   "metadata": {},
   "outputs": [],
   "source": [
    "balls = balls.astype('uint8') #самый лёгкий тип числовых данных, т.к. больше 90  нас цифр нет"
   ]
  },
  {
   "cell_type": "code",
   "execution_count": 27,
   "id": "2d9d1f4a",
   "metadata": {},
   "outputs": [
    {
     "name": "stdout",
     "output_type": "stream",
     "text": [
      "<class 'pandas.core.frame.DataFrame'>\n",
      "Int64Index: 77 entries, 1 to 90\n",
      "Data columns (total 4 columns):\n",
      " #   Column  Non-Null Count  Dtype\n",
      "---  ------  --------------  -----\n",
      " 0   1       77 non-null     uint8\n",
      " 1   2       77 non-null     uint8\n",
      " 2   3       77 non-null     uint8\n",
      " 3   4       77 non-null     uint8\n",
      "dtypes: uint8(4)\n",
      "memory usage: 924.0 bytes\n"
     ]
    },
    {
     "data": {
      "text/html": [
       "<div>\n",
       "<style scoped>\n",
       "    .dataframe tbody tr th:only-of-type {\n",
       "        vertical-align: middle;\n",
       "    }\n",
       "\n",
       "    .dataframe tbody tr th {\n",
       "        vertical-align: top;\n",
       "    }\n",
       "\n",
       "    .dataframe thead th {\n",
       "        text-align: right;\n",
       "    }\n",
       "</style>\n",
       "<table border=\"1\" class=\"dataframe\">\n",
       "  <thead>\n",
       "    <tr style=\"text-align: right;\">\n",
       "      <th></th>\n",
       "      <th>1</th>\n",
       "      <th>2</th>\n",
       "      <th>3</th>\n",
       "      <th>4</th>\n",
       "    </tr>\n",
       "  </thead>\n",
       "  <tbody>\n",
       "    <tr>\n",
       "      <th>1</th>\n",
       "      <td>2</td>\n",
       "      <td>0</td>\n",
       "      <td>0</td>\n",
       "      <td>0</td>\n",
       "    </tr>\n",
       "    <tr>\n",
       "      <th>2</th>\n",
       "      <td>0</td>\n",
       "      <td>1</td>\n",
       "      <td>0</td>\n",
       "      <td>0</td>\n",
       "    </tr>\n",
       "    <tr>\n",
       "      <th>3</th>\n",
       "      <td>3</td>\n",
       "      <td>1</td>\n",
       "      <td>0</td>\n",
       "      <td>0</td>\n",
       "    </tr>\n",
       "    <tr>\n",
       "      <th>4</th>\n",
       "      <td>2</td>\n",
       "      <td>0</td>\n",
       "      <td>0</td>\n",
       "      <td>0</td>\n",
       "    </tr>\n",
       "    <tr>\n",
       "      <th>6</th>\n",
       "      <td>2</td>\n",
       "      <td>0</td>\n",
       "      <td>0</td>\n",
       "      <td>0</td>\n",
       "    </tr>\n",
       "  </tbody>\n",
       "</table>\n",
       "</div>"
      ],
      "text/plain": [
       "   1  2  3  4\n",
       "1  2  0  0  0\n",
       "2  0  1  0  0\n",
       "3  3  1  0  0\n",
       "4  2  0  0  0\n",
       "6  2  0  0  0"
      ]
     },
     "execution_count": 27,
     "metadata": {},
     "output_type": "execute_result"
    }
   ],
   "source": [
    "balls.info()\n",
    "balls.head()"
   ]
  },
  {
   "cell_type": "markdown",
   "id": "8a7ed2b2",
   "metadata": {},
   "source": [
    "Нужно сложить столбцы (количество невыпадения шара, который является индексом):"
   ]
  },
  {
   "cell_type": "code",
   "execution_count": 28,
   "id": "f0d62b06",
   "metadata": {},
   "outputs": [],
   "source": [
    "balls['count_of_balls'] = balls['1'] + balls['2'] + balls['3'] + balls['4']"
   ]
  },
  {
   "cell_type": "code",
   "execution_count": 29,
   "id": "0de39792",
   "metadata": {},
   "outputs": [
    {
     "data": {
      "text/html": [
       "<div>\n",
       "<style scoped>\n",
       "    .dataframe tbody tr th:only-of-type {\n",
       "        vertical-align: middle;\n",
       "    }\n",
       "\n",
       "    .dataframe tbody tr th {\n",
       "        vertical-align: top;\n",
       "    }\n",
       "\n",
       "    .dataframe thead th {\n",
       "        text-align: right;\n",
       "    }\n",
       "</style>\n",
       "<table border=\"1\" class=\"dataframe\">\n",
       "  <thead>\n",
       "    <tr style=\"text-align: right;\">\n",
       "      <th></th>\n",
       "      <th>1</th>\n",
       "      <th>2</th>\n",
       "      <th>3</th>\n",
       "      <th>4</th>\n",
       "      <th>count_of_balls</th>\n",
       "    </tr>\n",
       "  </thead>\n",
       "  <tbody>\n",
       "    <tr>\n",
       "      <th>3</th>\n",
       "      <td>3</td>\n",
       "      <td>1</td>\n",
       "      <td>0</td>\n",
       "      <td>0</td>\n",
       "      <td>4</td>\n",
       "    </tr>\n",
       "    <tr>\n",
       "      <th>15</th>\n",
       "      <td>1</td>\n",
       "      <td>1</td>\n",
       "      <td>0</td>\n",
       "      <td>0</td>\n",
       "      <td>2</td>\n",
       "    </tr>\n",
       "    <tr>\n",
       "      <th>9</th>\n",
       "      <td>0</td>\n",
       "      <td>3</td>\n",
       "      <td>0</td>\n",
       "      <td>0</td>\n",
       "      <td>3</td>\n",
       "    </tr>\n",
       "  </tbody>\n",
       "</table>\n",
       "</div>"
      ],
      "text/plain": [
       "    1  2  3  4  count_of_balls\n",
       "3   3  1  0  0               4\n",
       "15  1  1  0  0               2\n",
       "9   0  3  0  0               3"
      ]
     },
     "execution_count": 29,
     "metadata": {},
     "output_type": "execute_result"
    }
   ],
   "source": [
    "balls.sample(3)"
   ]
  },
  {
   "cell_type": "markdown",
   "id": "ea3f1003",
   "metadata": {},
   "source": [
    "Создадим итоговую таблицу плохих шаров, отсортировав значения по убыванию, что б максимальное количество невыпадений шара сномером было вверху."
   ]
  },
  {
   "cell_type": "code",
   "execution_count": 30,
   "id": "efb4613d",
   "metadata": {},
   "outputs": [],
   "source": [
    "bad_balls = balls['count_of_balls'].sort_values(ascending=False)"
   ]
  },
  {
   "cell_type": "code",
   "execution_count": 31,
   "id": "5f288528",
   "metadata": {},
   "outputs": [
    {
     "data": {
      "text/plain": [
       "26    5\n",
       "39    5\n",
       "90    4\n",
       "63    4\n",
       "69    4\n",
       "Name: count_of_balls, dtype: uint8"
      ]
     },
     "execution_count": 31,
     "metadata": {},
     "output_type": "execute_result"
    }
   ],
   "source": [
    "bad_balls.head()"
   ]
  },
  {
   "cell_type": "markdown",
   "id": "b44b34b5",
   "metadata": {},
   "source": [
    "Сколько ж шаров не выпадало хотя бы один раз за год?:"
   ]
  },
  {
   "cell_type": "code",
   "execution_count": 32,
   "id": "767e61e7",
   "metadata": {},
   "outputs": [
    {
     "name": "stdout",
     "output_type": "stream",
     "text": [
      "А не выпало за год аж 77 из 90 шаров!\n"
     ]
    }
   ],
   "source": [
    "print('А не выпало за год аж', len(bad_balls), 'из 90 шаров!')"
   ]
  },
  {
   "cell_type": "code",
   "execution_count": 33,
   "id": "d8f4f335",
   "metadata": {},
   "outputs": [
    {
     "data": {
      "text/plain": [
       "26    5\n",
       "39    5\n",
       "90    4\n",
       "63    4\n",
       "69    4\n",
       "54    4\n",
       "64    4\n",
       "66    4\n",
       "17    4\n",
       "85    4\n",
       "14    4\n",
       "3     4\n",
       "24    3\n",
       "20    3\n",
       "30    3\n",
       "48    3\n",
       "51    3\n",
       "53    3\n",
       "55    3\n",
       "9     3\n",
       "Name: count_of_balls, dtype: uint8"
      ]
     },
     "execution_count": 33,
     "metadata": {},
     "output_type": "execute_result"
    }
   ],
   "source": [
    "bad_balls.head(20) "
   ]
  },
  {
   "cell_type": "markdown",
   "id": "5c0ec76f",
   "metadata": {},
   "source": [
    "2 шара 4 и более раз не выпали за год. \n",
    "\n",
    "Посмотрим распределение на графике:"
   ]
  },
  {
   "cell_type": "code",
   "execution_count": 34,
   "id": "26745e87",
   "metadata": {},
   "outputs": [
    {
     "data": {
      "text/plain": [
       "<AxesSubplot:>"
      ]
     },
     "execution_count": 34,
     "metadata": {},
     "output_type": "execute_result"
    },
    {
     "data": {
      "image/png": "[encoded data removed]",
      "text/plain": [
       "<Figure size 1296x432 with 1 Axes>"
      ]
     },
     "metadata": {
      "needs_background": "light"
     },
     "output_type": "display_data"
    }
   ],
   "source": [
    "bad_balls.plot.bar(figsize=(18,6))"
   ]
  },
  {
   "cell_type": "markdown",
   "id": "56856bb9",
   "metadata": {},
   "source": [
    "Шар под номером 26 и 39 выбирать в лотерейных билетах точно не стоит."
   ]
  },
  {
   "cell_type": "markdown",
   "id": "d6318517",
   "metadata": {},
   "source": [
    "# Вывод"
   ]
  },
  {
   "cell_type": "code",
   "execution_count": 35,
   "id": "098de0d5",
   "metadata": {},
   "outputs": [
    {
     "name": "stdout",
     "output_type": "stream",
     "text": [
      "Int64Index([26, 39, 90, 63, 69, 54, 64, 66, 17, 85, 14, 3], dtype='int64')\n"
     ]
    }
   ],
   "source": [
    "print(bad_balls.head(12).index)"
   ]
  },
  {
   "cell_type": "markdown",
   "id": "d5f6bc77",
   "metadata": {},
   "source": [
    "В общем **12 шаров, которые не стоит выбирать в лотерейных билетах** это шары под номерами: **26, 39, 90, 63, 69, 54, 64, 66, 17, 85, 14, 3**.\n",
    "\n",
    "Берите шпаргалку и удачи в розыгрышах )"
   ]
  },
  {
   "cell_type": "markdown",
   "id": "573547ac",
   "metadata": {},
   "source": [
    "**Бонус:**"
   ]
  },
  {
   "cell_type": "code",
   "execution_count": 36,
   "id": "70376d59",
   "metadata": {},
   "outputs": [],
   "source": [
    "lucky_list = []\n",
    "for i in range(1, 90):\n",
    "    if i not in balls.index:\n",
    "        lucky_list.append(i)\n"
   ]
  },
  {
   "cell_type": "code",
   "execution_count": 37,
   "id": "2718f435",
   "metadata": {},
   "outputs": [
    {
     "name": "stdout",
     "output_type": "stream",
     "text": [
      "[5, 12, 13, 18, 22, 34, 44, 47, 57, 61, 73, 82, 84] счастливые числа! Они выпадали весь год без перерыва!\n"
     ]
    }
   ],
   "source": [
    "print(lucky_list, 'счастливые числа! Они выпадали весь год без перерыва!')"
   ]
  },
  {
   "cell_type": "markdown",
   "id": "bb544b6a",
   "metadata": {},
   "source": [
    "**5, 12, 13, 18, 22, 34, 44, 47, 57, 61, 73, 82, 84 - СЧАСТЛИВЫЕ ЧИСЛА**"
   ]
  },
  {
   "cell_type": "markdown",
   "id": "bca26ca5",
   "metadata": {},
   "source": [
    "Спасибо за внимание :) Это была развлекательная задача по Data Sience.\n",
    "\n",
    "Если Вас заинтересовал такой великий специалист, как я, то пишите ***t.me/Asta7373***."
   ]
  },
  {
   "cell_type": "code",
   "execution_count": null,
   "id": "fbb7389c",
   "metadata": {},
   "outputs": [],
   "source": []
  }
 ],
 "metadata": {
  "kernelspec": {
   "display_name": "Python 3",
   "language": "python",
   "name": "python3"
  },
  "language_info": {
   "codemirror_mode": {
    "name": "ipython",
    "version": 3
   },
   "file_extension": ".py",
   "mimetype": "text/x-python",
   "name": "python",
   "nbconvert_exporter": "python",
   "pygments_lexer": "ipython3",
   "version": "3.7.0"
  }
 },
 "nbformat": 4,
 "nbformat_minor": 5
}
